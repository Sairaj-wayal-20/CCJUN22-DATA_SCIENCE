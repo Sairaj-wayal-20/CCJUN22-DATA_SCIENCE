{
  "nbformat": 4,
  "nbformat_minor": 0,
  "metadata": {
    "colab": {
      "name": "gold price prediction.ipynb",
      "provenance": [],
      "collapsed_sections": []
    },
    "kernelspec": {
      "name": "python3",
      "display_name": "Python 3"
    },
    "language_info": {
      "name": "python"
    }
  },
  "cells": [
    {
      "cell_type": "markdown",
      "source": [
        "### gold price prediction \n"
      ],
      "metadata": {
        "id": "oJ8hcf529kId"
      }
    },
    {
      "cell_type": "code",
      "execution_count": 22,
      "metadata": {
        "id": "UyGLc2HvZHCK"
      },
      "outputs": [],
      "source": [
        "import numpy as np \n",
        "import pandas as pd\n",
        "import matplotlib.pyplot as plt \n",
        "import seaborn as sns \n",
        "from sklearn.model_selection import train_test_split\n",
        "from sklearn.ensemble import RandomForestRegressor\n",
        "from sklearn import metrics \n"
      ]
    },
    {
      "cell_type": "markdown",
      "source": [
        "###data collection and preprocessing\n"
      ],
      "metadata": {
        "id": "MVxgiI6vjMJY"
      }
    },
    {
      "cell_type": "code",
      "source": [
        "gold_df=pd.read_csv(\"/content/gld_price_data.csv\")\n",
        "print(gold_df)"
      ],
      "metadata": {
        "colab": {
          "base_uri": "https://localhost:8080/"
        },
        "id": "khP9RqZMiiM1",
        "outputId": "65fd1a96-94c2-4a24-d9d7-9fc97cc0dbc5"
      },
      "execution_count": 23,
      "outputs": [
        {
          "output_type": "stream",
          "name": "stdout",
          "text": [
            "           Date          SPX         GLD        USO      SLV   EUR/USD\n",
            "0      1/2/2008  1447.160034   84.860001  78.470001  15.1800  1.471692\n",
            "1      1/3/2008  1447.160034   85.570000  78.370003  15.2850  1.474491\n",
            "2      1/4/2008  1411.630005   85.129997  77.309998  15.1670  1.475492\n",
            "3      1/7/2008  1416.180054   84.769997  75.500000  15.0530  1.468299\n",
            "4      1/8/2008  1390.189941   86.779999  76.059998  15.5900  1.557099\n",
            "...         ...          ...         ...        ...      ...       ...\n",
            "2285   5/8/2018  2671.919922  124.589996  14.060000  15.5100  1.186789\n",
            "2286   5/9/2018  2697.790039  124.330002  14.370000  15.5300  1.184722\n",
            "2287  5/10/2018  2723.070068  125.180000  14.410000  15.7400  1.191753\n",
            "2288  5/14/2018  2730.129883  124.489998  14.380000  15.5600  1.193118\n",
            "2289  5/16/2018  2725.780029  122.543800  14.405800  15.4542  1.182033\n",
            "\n",
            "[2290 rows x 6 columns]\n"
          ]
        }
      ]
    },
    {
      "cell_type": "code",
      "source": [
        "gold_df.shape"
      ],
      "metadata": {
        "colab": {
          "base_uri": "https://localhost:8080/"
        },
        "id": "dkzsFwe2nMlC",
        "outputId": "9d7bc600-5491-4ea7-8f32-73c9792f083c"
      },
      "execution_count": 24,
      "outputs": [
        {
          "output_type": "execute_result",
          "data": {
            "text/plain": [
              "(2290, 6)"
            ]
          },
          "metadata": {},
          "execution_count": 24
        }
      ]
    },
    {
      "cell_type": "code",
      "source": [
        "gold_df.info()"
      ],
      "metadata": {
        "colab": {
          "base_uri": "https://localhost:8080/"
        },
        "id": "cfIWyWT4ojXA",
        "outputId": "071fc335-5fbe-4063-bad9-e620ed1d935a"
      },
      "execution_count": 25,
      "outputs": [
        {
          "output_type": "stream",
          "name": "stdout",
          "text": [
            "<class 'pandas.core.frame.DataFrame'>\n",
            "RangeIndex: 2290 entries, 0 to 2289\n",
            "Data columns (total 6 columns):\n",
            " #   Column   Non-Null Count  Dtype  \n",
            "---  ------   --------------  -----  \n",
            " 0   Date     2290 non-null   object \n",
            " 1   SPX      2290 non-null   float64\n",
            " 2   GLD      2290 non-null   float64\n",
            " 3   USO      2290 non-null   float64\n",
            " 4   SLV      2290 non-null   float64\n",
            " 5   EUR/USD  2290 non-null   float64\n",
            "dtypes: float64(5), object(1)\n",
            "memory usage: 107.5+ KB\n"
          ]
        }
      ]
    },
    {
      "cell_type": "code",
      "source": [
        "gold_df.isnull().sum()"
      ],
      "metadata": {
        "colab": {
          "base_uri": "https://localhost:8080/"
        },
        "id": "VSZWF2Gfumc9",
        "outputId": "8689f88f-6244-4f7b-fa1b-2053c8f75553"
      },
      "execution_count": 5,
      "outputs": [
        {
          "output_type": "execute_result",
          "data": {
            "text/plain": [
              "Date       0\n",
              "SPX        0\n",
              "GLD        0\n",
              "USO        0\n",
              "SLV        0\n",
              "EUR/USD    0\n",
              "dtype: int64"
            ]
          },
          "metadata": {},
          "execution_count": 5
        }
      ]
    },
    {
      "cell_type": "code",
      "source": [
        "gold_df.describe()"
      ],
      "metadata": {
        "colab": {
          "base_uri": "https://localhost:8080/",
          "height": 300
        },
        "id": "6iImOlvzvlFh",
        "outputId": "7272ea43-d20f-4dc2-b5ef-1188086d65eb"
      },
      "execution_count": 6,
      "outputs": [
        {
          "output_type": "execute_result",
          "data": {
            "text/plain": [
              "               SPX          GLD          USO          SLV      EUR/USD\n",
              "count  2290.000000  2290.000000  2290.000000  2290.000000  2290.000000\n",
              "mean   1654.315776   122.732875    31.842221    20.084997     1.283653\n",
              "std     519.111540    23.283346    19.523517     7.092566     0.131547\n",
              "min     676.530029    70.000000     7.960000     8.850000     1.039047\n",
              "25%    1239.874969   109.725000    14.380000    15.570000     1.171313\n",
              "50%    1551.434998   120.580002    33.869999    17.268500     1.303297\n",
              "75%    2073.010070   132.840004    37.827501    22.882500     1.369971\n",
              "max    2872.870117   184.589996   117.480003    47.259998     1.598798"
            ],
            "text/html": [
              "\n",
              "  <div id=\"df-57ae69e5-734b-4bfe-92f9-a8e807179725\">\n",
              "    <div class=\"colab-df-container\">\n",
              "      <div>\n",
              "<style scoped>\n",
              "    .dataframe tbody tr th:only-of-type {\n",
              "        vertical-align: middle;\n",
              "    }\n",
              "\n",
              "    .dataframe tbody tr th {\n",
              "        vertical-align: top;\n",
              "    }\n",
              "\n",
              "    .dataframe thead th {\n",
              "        text-align: right;\n",
              "    }\n",
              "</style>\n",
              "<table border=\"1\" class=\"dataframe\">\n",
              "  <thead>\n",
              "    <tr style=\"text-align: right;\">\n",
              "      <th></th>\n",
              "      <th>SPX</th>\n",
              "      <th>GLD</th>\n",
              "      <th>USO</th>\n",
              "      <th>SLV</th>\n",
              "      <th>EUR/USD</th>\n",
              "    </tr>\n",
              "  </thead>\n",
              "  <tbody>\n",
              "    <tr>\n",
              "      <th>count</th>\n",
              "      <td>2290.000000</td>\n",
              "      <td>2290.000000</td>\n",
              "      <td>2290.000000</td>\n",
              "      <td>2290.000000</td>\n",
              "      <td>2290.000000</td>\n",
              "    </tr>\n",
              "    <tr>\n",
              "      <th>mean</th>\n",
              "      <td>1654.315776</td>\n",
              "      <td>122.732875</td>\n",
              "      <td>31.842221</td>\n",
              "      <td>20.084997</td>\n",
              "      <td>1.283653</td>\n",
              "    </tr>\n",
              "    <tr>\n",
              "      <th>std</th>\n",
              "      <td>519.111540</td>\n",
              "      <td>23.283346</td>\n",
              "      <td>19.523517</td>\n",
              "      <td>7.092566</td>\n",
              "      <td>0.131547</td>\n",
              "    </tr>\n",
              "    <tr>\n",
              "      <th>min</th>\n",
              "      <td>676.530029</td>\n",
              "      <td>70.000000</td>\n",
              "      <td>7.960000</td>\n",
              "      <td>8.850000</td>\n",
              "      <td>1.039047</td>\n",
              "    </tr>\n",
              "    <tr>\n",
              "      <th>25%</th>\n",
              "      <td>1239.874969</td>\n",
              "      <td>109.725000</td>\n",
              "      <td>14.380000</td>\n",
              "      <td>15.570000</td>\n",
              "      <td>1.171313</td>\n",
              "    </tr>\n",
              "    <tr>\n",
              "      <th>50%</th>\n",
              "      <td>1551.434998</td>\n",
              "      <td>120.580002</td>\n",
              "      <td>33.869999</td>\n",
              "      <td>17.268500</td>\n",
              "      <td>1.303297</td>\n",
              "    </tr>\n",
              "    <tr>\n",
              "      <th>75%</th>\n",
              "      <td>2073.010070</td>\n",
              "      <td>132.840004</td>\n",
              "      <td>37.827501</td>\n",
              "      <td>22.882500</td>\n",
              "      <td>1.369971</td>\n",
              "    </tr>\n",
              "    <tr>\n",
              "      <th>max</th>\n",
              "      <td>2872.870117</td>\n",
              "      <td>184.589996</td>\n",
              "      <td>117.480003</td>\n",
              "      <td>47.259998</td>\n",
              "      <td>1.598798</td>\n",
              "    </tr>\n",
              "  </tbody>\n",
              "</table>\n",
              "</div>\n",
              "      <button class=\"colab-df-convert\" onclick=\"convertToInteractive('df-57ae69e5-734b-4bfe-92f9-a8e807179725')\"\n",
              "              title=\"Convert this dataframe to an interactive table.\"\n",
              "              style=\"display:none;\">\n",
              "        \n",
              "  <svg xmlns=\"http://www.w3.org/2000/svg\" height=\"24px\"viewBox=\"0 0 24 24\"\n",
              "       width=\"24px\">\n",
              "    <path d=\"M0 0h24v24H0V0z\" fill=\"none\"/>\n",
              "    <path d=\"M18.56 5.44l.94 2.06.94-2.06 2.06-.94-2.06-.94-.94-2.06-.94 2.06-2.06.94zm-11 1L8.5 8.5l.94-2.06 2.06-.94-2.06-.94L8.5 2.5l-.94 2.06-2.06.94zm10 10l.94 2.06.94-2.06 2.06-.94-2.06-.94-.94-2.06-.94 2.06-2.06.94z\"/><path d=\"M17.41 7.96l-1.37-1.37c-.4-.4-.92-.59-1.43-.59-.52 0-1.04.2-1.43.59L10.3 9.45l-7.72 7.72c-.78.78-.78 2.05 0 2.83L4 21.41c.39.39.9.59 1.41.59.51 0 1.02-.2 1.41-.59l7.78-7.78 2.81-2.81c.8-.78.8-2.07 0-2.86zM5.41 20L4 18.59l7.72-7.72 1.47 1.35L5.41 20z\"/>\n",
              "  </svg>\n",
              "      </button>\n",
              "      \n",
              "  <style>\n",
              "    .colab-df-container {\n",
              "      display:flex;\n",
              "      flex-wrap:wrap;\n",
              "      gap: 12px;\n",
              "    }\n",
              "\n",
              "    .colab-df-convert {\n",
              "      background-color: #E8F0FE;\n",
              "      border: none;\n",
              "      border-radius: 50%;\n",
              "      cursor: pointer;\n",
              "      display: none;\n",
              "      fill: #1967D2;\n",
              "      height: 32px;\n",
              "      padding: 0 0 0 0;\n",
              "      width: 32px;\n",
              "    }\n",
              "\n",
              "    .colab-df-convert:hover {\n",
              "      background-color: #E2EBFA;\n",
              "      box-shadow: 0px 1px 2px rgba(60, 64, 67, 0.3), 0px 1px 3px 1px rgba(60, 64, 67, 0.15);\n",
              "      fill: #174EA6;\n",
              "    }\n",
              "\n",
              "    [theme=dark] .colab-df-convert {\n",
              "      background-color: #3B4455;\n",
              "      fill: #D2E3FC;\n",
              "    }\n",
              "\n",
              "    [theme=dark] .colab-df-convert:hover {\n",
              "      background-color: #434B5C;\n",
              "      box-shadow: 0px 1px 3px 1px rgba(0, 0, 0, 0.15);\n",
              "      filter: drop-shadow(0px 1px 2px rgba(0, 0, 0, 0.3));\n",
              "      fill: #FFFFFF;\n",
              "    }\n",
              "  </style>\n",
              "\n",
              "      <script>\n",
              "        const buttonEl =\n",
              "          document.querySelector('#df-57ae69e5-734b-4bfe-92f9-a8e807179725 button.colab-df-convert');\n",
              "        buttonEl.style.display =\n",
              "          google.colab.kernel.accessAllowed ? 'block' : 'none';\n",
              "\n",
              "        async function convertToInteractive(key) {\n",
              "          const element = document.querySelector('#df-57ae69e5-734b-4bfe-92f9-a8e807179725');\n",
              "          const dataTable =\n",
              "            await google.colab.kernel.invokeFunction('convertToInteractive',\n",
              "                                                     [key], {});\n",
              "          if (!dataTable) return;\n",
              "\n",
              "          const docLinkHtml = 'Like what you see? Visit the ' +\n",
              "            '<a target=\"_blank\" href=https://colab.research.google.com/notebooks/data_table.ipynb>data table notebook</a>'\n",
              "            + ' to learn more about interactive tables.';\n",
              "          element.innerHTML = '';\n",
              "          dataTable['output_type'] = 'display_data';\n",
              "          await google.colab.output.renderOutput(dataTable, element);\n",
              "          const docLink = document.createElement('div');\n",
              "          docLink.innerHTML = docLinkHtml;\n",
              "          element.appendChild(docLink);\n",
              "        }\n",
              "      </script>\n",
              "    </div>\n",
              "  </div>\n",
              "  "
            ]
          },
          "metadata": {},
          "execution_count": 6
        }
      ]
    },
    {
      "cell_type": "code",
      "source": [
        "correlation =gold_df.corr()"
      ],
      "metadata": {
        "id": "dzVIfP6cxRTF"
      },
      "execution_count": 7,
      "outputs": []
    },
    {
      "cell_type": "code",
      "source": [
        "\n",
        "plt.figure(figsize = (8,8))\n",
        "sns.heatmap(correlation, cbar=True, square=True , fmt='.1f', annot=True, annot_kws={\"size\":8}, cmap='Blues')"
      ],
      "metadata": {
        "colab": {
          "base_uri": "https://localhost:8080/",
          "height": 487
        },
        "id": "j099O29pxf79",
        "outputId": "cee40db5-93a6-400d-ef80-36f647883882"
      },
      "execution_count": 8,
      "outputs": [
        {
          "output_type": "execute_result",
          "data": {
            "text/plain": [
              "<matplotlib.axes._subplots.AxesSubplot at 0x7f9a7cd10150>"
            ]
          },
          "metadata": {},
          "execution_count": 8
        },
        {
          "output_type": "display_data",
          "data": {
            "text/plain": [
              "<Figure size 576x576 with 2 Axes>"
            ],
            "image/png": "[encoded data removed]"
          },
          "metadata": {
            "needs_background": "light"
          }
        }
      ]
    },
    {
      "cell_type": "code",
      "source": [
        "print(correlation['GLD'])"
      ],
      "metadata": {
        "colab": {
          "base_uri": "https://localhost:8080/"
        },
        "id": "Jeb6gapYD8kr",
        "outputId": "5931a769-31c1-4595-8e24-21e1911b514b"
      },
      "execution_count": 9,
      "outputs": [
        {
          "output_type": "stream",
          "name": "stdout",
          "text": [
            "SPX        0.049345\n",
            "GLD        1.000000\n",
            "USO       -0.186360\n",
            "SLV        0.866632\n",
            "EUR/USD   -0.024375\n",
            "Name: GLD, dtype: float64\n"
          ]
        }
      ]
    },
    {
      "cell_type": "code",
      "source": [
        "sns.distplot(gold_df['GLD'],color=\"red\")"
      ],
      "metadata": {
        "colab": {
          "base_uri": "https://localhost:8080/",
          "height": 355
        },
        "id": "P03anKmuEHJj",
        "outputId": "c5d30663-2af7-4e6a-fc63-8ceea63ab6c8"
      },
      "execution_count": 10,
      "outputs": [
        {
          "output_type": "stream",
          "name": "stderr",
          "text": [
            "/usr/local/lib/python3.7/dist-packages/seaborn/distributions.py:2619: FutureWarning: `distplot` is a deprecated function and will be removed in a future version. Please adapt your code to use either `displot` (a figure-level function with similar flexibility) or `histplot` (an axes-level function for histograms).\n",
            "  warnings.warn(msg, FutureWarning)\n"
          ]
        },
        {
          "output_type": "execute_result",
          "data": {
            "text/plain": [
              "<matplotlib.axes._subplots.AxesSubplot at 0x7f9a782df210>"
            ]
          },
          "metadata": {},
          "execution_count": 10
        },
        {
          "output_type": "display_data",
          "data": {
            "text/plain": [
              "<Figure size 432x288 with 1 Axes>"
            ],
            "image/png": "[encoded data removed]"
          },
          "metadata": {
            "needs_background": "light"
          }
        }
      ]
    },
    {
      "cell_type": "code",
      "source": [
        "x = gold_df.drop(['Date','GLD'], axis=1)\n",
        "y = gold_df['GLD']"
      ],
      "metadata": {
        "id": "h1mXk7HGd53D"
      },
      "execution_count": 11,
      "outputs": []
    },
    {
      "cell_type": "code",
      "source": [
        "print(x)"
      ],
      "metadata": {
        "colab": {
          "base_uri": "https://localhost:8080/"
        },
        "id": "z_-bRfS7Hss0",
        "outputId": "1fce7aa4-d5e8-4907-8e8e-80ceef40d8be"
      },
      "execution_count": 12,
      "outputs": [
        {
          "output_type": "stream",
          "name": "stdout",
          "text": [
            "              SPX        USO      SLV   EUR/USD\n",
            "0     1447.160034  78.470001  15.1800  1.471692\n",
            "1     1447.160034  78.370003  15.2850  1.474491\n",
            "2     1411.630005  77.309998  15.1670  1.475492\n",
            "3     1416.180054  75.500000  15.0530  1.468299\n",
            "4     1390.189941  76.059998  15.5900  1.557099\n",
            "...           ...        ...      ...       ...\n",
            "2285  2671.919922  14.060000  15.5100  1.186789\n",
            "2286  2697.790039  14.370000  15.5300  1.184722\n",
            "2287  2723.070068  14.410000  15.7400  1.191753\n",
            "2288  2730.129883  14.380000  15.5600  1.193118\n",
            "2289  2725.780029  14.405800  15.4542  1.182033\n",
            "\n",
            "[2290 rows x 4 columns]\n"
          ]
        }
      ]
    },
    {
      "cell_type": "code",
      "source": [
        "print(y)"
      ],
      "metadata": {
        "colab": {
          "base_uri": "https://localhost:8080/"
        },
        "id": "yFc7o1QiHwnW",
        "outputId": "3744bd37-30d8-4205-bec3-716ac2018758"
      },
      "execution_count": 13,
      "outputs": [
        {
          "output_type": "stream",
          "name": "stdout",
          "text": [
            "0        84.860001\n",
            "1        85.570000\n",
            "2        85.129997\n",
            "3        84.769997\n",
            "4        86.779999\n",
            "           ...    \n",
            "2285    124.589996\n",
            "2286    124.330002\n",
            "2287    125.180000\n",
            "2288    124.489998\n",
            "2289    122.543800\n",
            "Name: GLD, Length: 2290, dtype: float64\n"
          ]
        }
      ]
    },
    {
      "cell_type": "code",
      "source": [
        "X_train, X_test, Y_train, Y_test = train_test_split(x, y, test_size=0.2, random_state=2)"
      ],
      "metadata": {
        "id": "-bVB1nIdInoW"
      },
      "execution_count": 14,
      "outputs": []
    },
    {
      "cell_type": "code",
      "source": [
        "regressor = RandomForestRegressor(n_estimators=100)"
      ],
      "metadata": {
        "id": "-82BC7eTD0Ho"
      },
      "execution_count": 15,
      "outputs": []
    },
    {
      "cell_type": "code",
      "source": [
        "regressor.fit(X_train,Y_train)"
      ],
      "metadata": {
        "colab": {
          "base_uri": "https://localhost:8080/"
        },
        "id": "fGubmvNpAcKi",
        "outputId": "8ee3366f-cc3e-4dbf-814d-9aca6955fe77"
      },
      "execution_count": 16,
      "outputs": [
        {
          "output_type": "execute_result",
          "data": {
            "text/plain": [
              "RandomForestRegressor()"
            ]
          },
          "metadata": {},
          "execution_count": 16
        }
      ]
    },
    {
      "cell_type": "code",
      "source": [
        "test_data_prediction = regressor.predict(X_test)"
      ],
      "metadata": {
        "id": "9PcqrpoSD883"
      },
      "execution_count": 17,
      "outputs": []
    },
    {
      "cell_type": "code",
      "source": [
        "print(test_data_prediction)"
      ],
      "metadata": {
        "colab": {
          "base_uri": "https://localhost:8080/"
        },
        "id": "4HGliTIyEBjH",
        "outputId": "514258c3-1657-4b9e-e1e8-6c4788ab4a24"
      },
      "execution_count": 18,
      "outputs": [
        {
          "output_type": "stream",
          "name": "stdout",
          "text": [
            "[168.51219926  81.9466999  116.26770008 127.73400072 120.85990089\n",
            " 154.82119751 149.95589825 125.94310028 117.66489858 125.80550099\n",
            " 116.48200144 172.41440093 141.20429941 168.00019866 115.32429981\n",
            " 117.65860065 139.10990255 170.13750054 159.86800244 156.32569979\n",
            " 155.11049996 125.22029984 176.27190046 156.68540407 125.18610044\n",
            "  93.75919988  78.10010009 120.63050005 119.16459949 167.57289932\n",
            "  87.96990034 125.25670016  91.1296009  117.73220021 121.14599888\n",
            " 136.41000114 115.51630118 114.85150083 148.76819972 107.19400108\n",
            " 104.0901022   87.290398   126.59330046 117.84190036 153.86659896\n",
            " 119.61320042 108.39079993 108.15459848  93.12910034 127.09299783\n",
            "  74.64050042 113.49419922 121.35750037 111.17349938 118.73639882\n",
            " 120.63949941 159.65020044 166.90600173 147.06409725  85.92269861\n",
            "  94.21030044  86.81429881  90.54960008 118.92980103 126.47180056\n",
            " 127.50010027 169.33169995 122.26889934 117.38099881  98.63190007\n",
            " 168.02570119 142.73879887 132.11850278 121.15540251 120.51289943\n",
            " 119.8949004  114.62930169 118.41100049 107.14630112 127.94880065\n",
            " 113.9348998  107.09209997 116.88270047 119.62219922  89.09060062\n",
            "  88.23399847 146.22820265 127.26580022 113.45260048 110.05049845\n",
            " 108.12199899  77.29749903 169.62620176 114.05229924 121.54049933\n",
            " 128.09790191 155.07499786  91.77809968 135.84410113 159.32430428\n",
            " 124.53350083 125.3214003  130.6376018  114.83590115 119.79900005\n",
            "  92.28620001 110.43889872 167.58959928 156.35659897 114.15569959\n",
            " 106.41260124  79.54929989 113.19850055 125.91660077 107.27699938\n",
            " 119.40770132 155.97830365 159.45449889 120.24410006 133.90370294\n",
            " 101.39159965 117.46109795 119.1986004  113.0115008  102.7554994\n",
            " 160.07119782  98.81260021 146.60759984 125.55150085 169.96989945\n",
            " 125.66169943 127.37679714 127.47730204 113.65599939 112.88360075\n",
            " 123.70639888 102.07699894  89.26039985 124.44609963 101.7066995\n",
            " 106.96869895 113.48060082 117.16090072  98.97189918 121.58560059\n",
            " 163.52089954  87.36939818 106.93939977 117.40520079 127.64690111\n",
            " 124.09380089  80.75689924 120.06320056 157.52089878  87.95509939\n",
            " 110.22339937 118.79809899 172.56239888 103.09129886 105.41960057\n",
            " 122.68620039 157.89759811  87.80129818  93.12350014 113.01560026\n",
            " 177.32290045 114.40640003 119.27800038  94.5575006  125.54860006\n",
            " 166.28640129 114.73330079 116.8451014   88.28269848 149.19160187\n",
            " 120.28989957  89.64799993 112.39100016 117.22050064 118.54190097\n",
            "  88.21459962  94.07679982 117.28519959 118.37920185 120.20500044\n",
            " 126.62969891 121.85879996 149.15659973 165.4048008  118.43549961\n",
            " 120.34470113 150.31960014 118.60359909 172.88149923 105.6469996\n",
            " 104.9283014  149.27170198 113.9443008  124.82660145 147.52839907\n",
            " 119.69760124 115.40340064 112.76620015 113.51120244 139.44450155\n",
            " 117.91929778 103.04780076 115.88110108 103.36620154  98.80210023\n",
            " 117.44860083  90.76270004  91.64410068 153.48789897 102.74029976\n",
            " 154.5084008  114.34860194 138.66230131  90.08299794 115.45259907\n",
            " 114.48829956 123.11259985 121.65030025 165.41260171  92.90819958\n",
            " 135.87410159 121.35349955 120.84670078 104.73260026 141.89150276\n",
            " 121.56019915 116.61170043 113.60220063 127.09009732 122.65349973\n",
            " 125.76249936 121.14970055  86.88299867 132.83690117 143.61630254\n",
            "  92.64229935 159.37469934 159.80040275 126.27869914 164.26319929\n",
            " 108.63749984 109.42890079 103.60869832  94.31760105 127.84980304\n",
            " 106.9982004  162.33259957 121.71260032 132.24070005 130.62980153\n",
            " 160.31190044  90.12199845 175.74770228 127.29610061 126.62539917\n",
            "  86.4306993  124.22179941 150.35189706  89.68840008 107.09699971\n",
            " 108.96879983  84.72369922 135.95600029 155.01580203 137.85510391\n",
            "  73.83310037 151.79730121 126.1574998  126.72100014 127.46519944\n",
            " 108.53029941 156.0491001  114.41660107 116.77860137 125.11469922\n",
            " 154.1571014  121.25829986 156.5089986   92.96420072 125.60280142\n",
            " 126.03290057  88.01340066  92.08489941 126.10069935 128.14310316\n",
            " 113.27460062 117.84869764 120.90130037 127.21859792 119.44560079\n",
            " 137.34450149  94.03789976 119.72760043 113.03280083  94.32629949\n",
            " 109.09189981  86.9961992  109.16629946  89.75859974  92.39400004\n",
            " 131.63830263 162.36840054  89.25150011 119.66300089 133.53960192\n",
            " 123.91810013 128.00560124 101.80169831  88.95729891 131.88840033\n",
            " 119.59020031 108.53569969 168.35560035 115.02660013  86.62769887\n",
            " 118.9010008   90.88029962 161.65159994 116.61590055 121.65029992\n",
            " 160.34829784 120.07289939 112.90219938 108.51049876 126.65249991\n",
            "  76.06500002 102.97399989 127.66850245 121.78179919  92.5966003\n",
            " 132.59040098 118.10090073 116.28139951 154.52060249 159.71630098\n",
            " 110.07419969 152.65749735 119.25320063 160.47730214 118.3136005\n",
            " 158.77319999 115.09039882 116.57440027 148.20959959 114.89620087\n",
            " 125.73909881 166.49529877 117.58910003 125.15319921 153.33010352\n",
            " 153.51570264 132.13899976 114.8136003  121.20510247 125.04370022\n",
            "  89.79850056 123.06669965 154.39070127 111.69820047 106.82159979\n",
            " 162.28010196 118.21880004 165.67719908 133.86200146 115.00489963\n",
            " 152.85409817 168.68759995 114.09569991 113.89830126 157.48239841\n",
            "  85.34179884 126.98600141 127.97460045 128.69179996 124.33360052\n",
            " 123.86620072  90.51760087 153.2288997   97.01589964 137.4508002\n",
            "  89.11639938 107.19140004 115.00210041 112.6452006  124.47749924\n",
            "  91.43239886 125.29780106 162.16849879 119.97609875 165.1624008\n",
            " 126.48909893 112.45960008 127.50169928  95.13619866  90.92689973\n",
            " 103.65249914 120.8209001   83.13929953 126.30300002 160.63050414\n",
            " 117.16180073 118.3315998  119.6994999  122.72769969 120.1140011\n",
            " 121.52590012 118.03980062 107.0329998  148.32050009 126.27749925\n",
            " 115.66040063  74.18140016 127.79300102 153.05750066 121.87729979\n",
            " 125.52040049  88.90689998 103.49719899 124.30990044 120.27940044\n",
            "  73.45820089 151.75000047 121.22190035 104.40120003  86.35359758\n",
            " 115.05229935 172.21639793 119.7611003  160.28859866 113.19469905\n",
            " 121.54320041 118.66050057  95.9439998  118.52990038 125.98840072\n",
            " 118.55189961  96.0777005  153.52770178 122.21420008 147.16559962\n",
            " 159.38540291 113.66720006 122.47699922 148.62029775 127.22860012\n",
            " 165.46620107 136.10290055 119.86810023 167.22149877 108.57359955\n",
            " 121.85369856 138.18080157 106.6208991 ]\n"
          ]
        }
      ]
    },
    {
      "cell_type": "code",
      "metadata": {
        "colab": {
          "base_uri": "https://localhost:8080/"
        },
        "id": "fu7A1hhMhqa9",
        "outputId": "00b27ecb-682f-41c1-b19e-444899712f76"
      },
      "source": [
        "\n",
        "error_score = metrics.r2_score(Y_test, test_data_prediction)\n",
        "print(\"R squared error : \", error_score)"
      ],
      "execution_count": 19,
      "outputs": [
        {
          "output_type": "stream",
          "name": "stdout",
          "text": [
            "R squared error :  0.9891571381773967\n"
          ]
        }
      ]
    },
    {
      "cell_type": "code",
      "metadata": {
        "id": "QoC4g_tBiE4A"
      },
      "source": [
        "Y_test = list(Y_test)"
      ],
      "execution_count": 20,
      "outputs": []
    },
    {
      "cell_type": "code",
      "metadata": {
        "colab": {
          "base_uri": "https://localhost:8080/",
          "height": 295
        },
        "id": "sMSVMVtFijxo",
        "outputId": "76646add-aeba-402c-c081-5dfbec892048"
      },
      "source": [
        "plt.plot(Y_test, color='blue', label = 'Actual Value')\n",
        "plt.plot(test_data_prediction, color='green', label='Predicted Value')\n",
        "plt.title('Actual Price vs Predicted Price')\n",
        "plt.xlabel('Number of values')\n",
        "plt.ylabel('GLD Price')\n",
        "plt.legend()\n",
        "plt.show()"
      ],
      "execution_count": 21,
      "outputs": [
        {
          "output_type": "display_data",
          "data": {
            "text/plain": [
              "<Figure size 432x288 with 1 Axes>"
            ],
            "image/png": "[encoded data removed]"
          },
          "metadata": {
            "needs_background": "light"
          }
        }
      ]
    },
    {
      "cell_type": "code",
      "source": [
        ""
      ],
      "metadata": {
        "id": "I2qTdX9-9S3l"
      },
      "execution_count": 21,
      "outputs": []
    }
  ]
}